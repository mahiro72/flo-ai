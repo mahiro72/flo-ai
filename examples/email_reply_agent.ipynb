{
 "cells": [
  {
   "cell_type": "code",
   "execution_count": 15,
   "metadata": {},
   "outputs": [
    {
     "data": {
      "text/plain": [
       "True"
      ]
     },
     "execution_count": 15,
     "metadata": {},
     "output_type": "execute_result"
    }
   ],
   "source": [
    "from flo_ai import Flo\n",
    "from flo_ai import FloSession\n",
    "from langchain_openai import ChatOpenAI\n",
    "\n",
    "from dotenv import load_dotenv\n",
    "load_dotenv()"
   ]
  },
  {
   "cell_type": "markdown",
   "metadata": {},
   "source": [
    "# Setting up the send email tool"
   ]
  },
  {
   "cell_type": "code",
   "execution_count": 8,
   "metadata": {},
   "outputs": [],
   "source": [
    "from typing import Optional, Type\n",
    "from langchain.pydantic_v1 import BaseModel, Field\n",
    "from langchain.tools import BaseTool, StructuredTool, tool\n",
    "from langchain.callbacks.manager import (\n",
    "    AsyncCallbackManagerForToolRun,\n",
    "    CallbackManagerForToolRun,\n",
    ")\n",
    "\n",
    "class SendEmailInput(BaseModel):\n",
    "    email: str = Field(description=\"The email text to be sent\")\n",
    "\n",
    "class SendEmailTool(BaseTool):\n",
    "    name = \"email_triage\"\n",
    "    description = \"useful for when you need to send an email to someone\"\n",
    "    args_schema: Type[BaseModel] = SendEmailInput\n",
    "\n",
    "    def _run(\n",
    "        self, email: str, run_manager: Optional[CallbackManagerForToolRun] = None\n",
    "    ) -> str:\n",
    "        print(email)\n",
    "        return \"Email sent successfully\"\n",
    "\n",
    "    async def _arun(\n",
    "        self, email: str, run_manager: Optional[AsyncCallbackManagerForToolRun] = None\n",
    "    ) -> str:\n",
    "        print(email)\n",
    "        return \"Email sent successfully\""
   ]
  },
  {
   "cell_type": "markdown",
   "metadata": {},
   "source": [
    "# Setting up the fetch transaction tool"
   ]
  },
  {
   "cell_type": "code",
   "execution_count": 9,
   "metadata": {},
   "outputs": [],
   "source": [
    "from typing import Optional, Type\n",
    "from langchain.pydantic_v1 import BaseModel, Field\n",
    "from langchain.tools import BaseTool, StructuredTool, tool\n",
    "from langchain.callbacks.manager import (\n",
    "    AsyncCallbackManagerForToolRun,\n",
    "    CallbackManagerForToolRun,\n",
    ")\n",
    "\n",
    "class FetchTrxInput(BaseModel):\n",
    "    reference_number: str = Field(description=\"The transaction reference number\")\n",
    "\n",
    "class FetchTransactionTool(BaseTool):\n",
    "    name = \"fetch_transactions\"\n",
    "    description = \"useful for when you want to fetch the transaction details given reference number\"\n",
    "    args_schema: Type[BaseModel] = FetchTrxInput\n",
    "\n",
    "    def _run(\n",
    "        self, reference_number: str, run_manager: Optional[CallbackManagerForToolRun] = None\n",
    "    ) -> str:\n",
    "        return \"The transaction happened on 23/07/2024 IST and it failed because there was not enough balance in the account\"\n",
    "\n",
    "    async def _arun(\n",
    "        self, reference_number: str, run_manager: Optional[AsyncCallbackManagerForToolRun] = None\n",
    "    ) -> str:\n",
    "        return \"The transaction happened on 23/07/2024 IST and it failed because there was not enough balance in the account\""
   ]
  },
  {
   "cell_type": "markdown",
   "metadata": {},
   "source": [
    "# Register the tools"
   ]
  },
  {
   "cell_type": "code",
   "execution_count": 12,
   "metadata": {},
   "outputs": [],
   "source": [
    "llm = ChatOpenAI(temperature=0, model_name='gpt-4o')\n",
    "session = FloSession(llm).register_tool(\n",
    "    name=\"SendEmailTool\", \n",
    "    tool=SendEmailTool()\n",
    ").register_tool(\n",
    "    name=\"FetchTransactionTool\",\n",
    "    tool=FetchTransactionTool()\n",
    ")"
   ]
  },
  {
   "cell_type": "markdown",
   "metadata": {},
   "source": [
    "# Setting up the agentic flo"
   ]
  },
  {
   "cell_type": "code",
   "execution_count": 19,
   "metadata": {},
   "outputs": [],
   "source": [
    "agent_yaml = \"\"\"\n",
    "apiVersion: flo/alpha-v1\n",
    "kind: FloRoutedTeam\n",
    "name: support-email-handler\n",
    "team:\n",
    "    name: SupportTicketHandler\n",
    "    router:\n",
    "        name: SupportSupervisor\n",
    "        kind: supervisor\n",
    "    agents:\n",
    "      - name: EmailSender\n",
    "        prompt: You are capable of sending the reply email but constructing a apt response\n",
    "        tools:\n",
    "          - name: SendEmailTool\n",
    "      - name: TransactionFetcher\n",
    "        prompt: You are capable of fetching any kind of transactions from the database given transaction reference id\n",
    "        tools:\n",
    "          - name: FetchTransactionTool\n",
    "\"\"\""
   ]
  },
  {
   "cell_type": "markdown",
   "metadata": {},
   "source": [
    "# Setup input prompt"
   ]
  },
  {
   "cell_type": "code",
   "execution_count": 28,
   "metadata": {},
   "outputs": [],
   "source": [
    "email_input = \"\"\"\n",
    "Hi Tom,\n",
    "\n",
    "We have a failed transaction. Can you tell me more about why this failed.\n",
    "\n",
    "Thanks\n",
    "Vishnu\n",
    "\"\"\""
   ]
  },
  {
   "cell_type": "code",
   "execution_count": 29,
   "metadata": {},
   "outputs": [],
   "source": [
    "input_prompt = \"\"\"\n",
    "You are a support ticket handling agent. You are expected to understand the email, and perform the following steps:\n",
    "\n",
    "1. Reply asking for more information if there is missing information in the email\n",
    "2. Perform the neccessary steps to required to answer the users question and reply the user query.\n",
    "3. If are not able to come up with a answer just reply I dont know over the email\n",
    "\n",
    "Email:\n",
    "\n",
    "\"\"\" + email_input"
   ]
  },
  {
   "cell_type": "markdown",
   "metadata": {},
   "source": [
    "## Run the flo"
   ]
  },
  {
   "cell_type": "code",
   "execution_count": 30,
   "metadata": {},
   "outputs": [
    {
     "name": "stdout",
     "output_type": "stream",
     "text": [
      "{'SupportSupervisor-x7llc': {'next': 'TransactionFetcher-YdHZo'}}\n",
      "----\n",
      "\n",
      "\n",
      "\u001b[1m> Entering new AgentExecutor chain...\u001b[0m\n",
      "\u001b[32;1m\u001b[1;3mHi Vishnu,\n",
      "\n",
      "Thank you for reaching out.\n",
      "\n",
      "Could you please provide me with the transaction reference number for the failed transaction? This will help me to look into the details and provide you with the necessary information.\n",
      "\n",
      "Looking forward to your response.\n",
      "\n",
      "Best regards,  \n",
      "Tom\u001b[0m\n",
      "\n",
      "\u001b[1m> Finished chain.\u001b[0m\n",
      "{'TransactionFetcher-YdHZo': {'messages': [HumanMessage(content='Hi Vishnu,\\n\\nThank you for reaching out.\\n\\nCould you please provide me with the transaction reference number for the failed transaction? This will help me to look into the details and provide you with the necessary information.\\n\\nLooking forward to your response.\\n\\nBest regards,  \\nTom', name='TransactionFetcher-YdHZo')]}}\n",
      "----\n",
      "{'SupportSupervisor-x7llc': {'next': 'FINISH'}}\n",
      "----\n"
     ]
    }
   ],
   "source": [
    "flo: Flo = Flo.build_with_yaml(session, yaml=agent_yaml)\n",
    "for s in flo.stream(input_prompt):\n",
    "     if \"__end__\" not in s:\n",
    "        print(s)\n",
    "        print(\"----\")"
   ]
  }
 ],
 "metadata": {
  "kernelspec": {
   "display_name": "Python 3",
   "language": "python",
   "name": "python3"
  },
  "language_info": {
   "codemirror_mode": {
    "name": "ipython",
    "version": 3
   },
   "file_extension": ".py",
   "mimetype": "text/x-python",
   "name": "python",
   "nbconvert_exporter": "python",
   "pygments_lexer": "ipython3",
   "version": "3.11.6"
  }
 },
 "nbformat": 4,
 "nbformat_minor": 2
}
