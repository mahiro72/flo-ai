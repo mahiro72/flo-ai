{
 "cells": [
  {
   "cell_type": "code",
   "execution_count": 1,
   "metadata": {},
   "outputs": [
    {
     "data": {
      "text/plain": [
       "True"
      ]
     },
     "execution_count": 1,
     "metadata": {},
     "output_type": "execute_result"
    }
   ],
   "source": [
    "from flo_ai import Flo\n",
    "from flo_ai import FloSession\n",
    "from langchain_openai import ChatOpenAI, OpenAIEmbeddings\n",
    "\n",
    "from dotenv import load_dotenv\n",
    "load_dotenv()"
   ]
  },
  {
   "cell_type": "markdown",
   "metadata": {},
   "source": [
    "# Setting up the send email tool"
   ]
  },
  {
   "cell_type": "code",
   "execution_count": 2,
   "metadata": {},
   "outputs": [],
   "source": [
    "from typing import Optional, Type\n",
    "from langchain.pydantic_v1 import BaseModel, Field\n",
    "from langchain.tools import BaseTool, StructuredTool, tool\n",
    "from langchain.callbacks.manager import (\n",
    "    AsyncCallbackManagerForToolRun,\n",
    "    CallbackManagerForToolRun,\n",
    ")\n",
    "\n",
    "class SendEmailInput(BaseModel):\n",
    "    email: str = Field(description=\"The email text to be sent\")\n",
    "\n",
    "class SendEmailTool(BaseTool):\n",
    "    name = \"email_triage\"\n",
    "    description = \"useful for when you need to send an email to someone\"\n",
    "    args_schema: Type[BaseModel] = SendEmailInput\n",
    "\n",
    "    def _run(\n",
    "        self, email: str, run_manager: Optional[CallbackManagerForToolRun] = None\n",
    "    ) -> str:\n",
    "        print(email)\n",
    "        return \"Email sent successfully\"\n",
    "\n",
    "    async def _arun(\n",
    "        self, email: str, run_manager: Optional[AsyncCallbackManagerForToolRun] = None\n",
    "    ) -> str:\n",
    "        print(email)\n",
    "        return \"Email sent successfully\""
   ]
  },
  {
   "cell_type": "markdown",
   "metadata": {},
   "source": [
    "# Setting up the fetch transaction tool"
   ]
  },
  {
   "cell_type": "code",
   "execution_count": 3,
   "metadata": {},
   "outputs": [],
   "source": [
    "from typing import Optional, Type\n",
    "from langchain.pydantic_v1 import BaseModel, Field\n",
    "from langchain.tools import BaseTool, StructuredTool, tool\n",
    "from langchain.callbacks.manager import (\n",
    "    AsyncCallbackManagerForToolRun,\n",
    "    CallbackManagerForToolRun,\n",
    ")\n",
    "\n",
    "class FetchTrxInput(BaseModel):\n",
    "    reference_number: str = Field(description=\"The transaction reference number\")\n",
    "\n",
    "class FetchTransactionTool(BaseTool):\n",
    "    name = \"fetch_transactions\"\n",
    "    description = \"useful for when you want to fetch the transaction details given reference number\"\n",
    "    args_schema: Type[BaseModel] = FetchTrxInput\n",
    "\n",
    "    def _run(\n",
    "        self, reference_number: str, run_manager: Optional[CallbackManagerForToolRun] = None\n",
    "    ) -> str:\n",
    "        return \"The transaction happened on 23/07/2024 IST and it failed because there was not enough balance in the account\"\n",
    "\n",
    "    async def _arun(\n",
    "        self, reference_number: str, run_manager: Optional[AsyncCallbackManagerForToolRun] = None\n",
    "    ) -> str:\n",
    "        return \"The transaction happened on 23/07/2024 IST and it failed because there was not enough balance in the account\""
   ]
  },
  {
   "cell_type": "markdown",
   "metadata": {},
   "source": [
    "# Setup a retriver db"
   ]
  },
  {
   "cell_type": "code",
   "execution_count": 4,
   "metadata": {},
   "outputs": [
    {
     "name": "stderr",
     "output_type": "stream",
     "text": [
      "/Users/vizsatiz/Documents/hub/flo/.venv/lib/python3.11/site-packages/sentence_transformers/cross_encoder/CrossEncoder.py:11: TqdmWarning: IProgress not found. Please update jupyter and ipywidgets. See https://ipywidgets.readthedocs.io/en/stable/user_install.html\n",
      "  from tqdm.autonotebook import tqdm, trange\n"
     ]
    }
   ],
   "source": [
    "# import\n",
    "from langchain_chroma import Chroma\n",
    "from langchain_community.document_loaders import TextLoader\n",
    "from langchain_community.embeddings.sentence_transformer import (\n",
    "    SentenceTransformerEmbeddings,\n",
    ")\n",
    "from langchain_text_splitters import CharacterTextSplitter\n",
    "\n",
    "# load the document and split it into chunks\n",
    "loader = TextLoader(\"./rag_document.txt\")\n",
    "documents = loader.load()\n",
    "\n",
    "# split it into chunks\n",
    "text_splitter = CharacterTextSplitter(chunk_size=1000, chunk_overlap=0)\n",
    "docs = text_splitter.split_documents(documents)\n",
    "\n",
    "# create the open-source embedding function\n",
    "embedding_function = SentenceTransformerEmbeddings(model_name=\"all-MiniLM-L6-v2\")\n",
    "\n",
    "# load it into Chroma\n",
    "db = Chroma.from_documents(docs, embedding_function)"
   ]
  },
  {
   "cell_type": "code",
   "execution_count": 5,
   "metadata": {},
   "outputs": [
    {
     "data": {
      "text/plain": [
       "<flo_ai.state.flo_session.FloSession at 0x15d90ca90>"
      ]
     },
     "execution_count": 5,
     "metadata": {},
     "output_type": "execute_result"
    }
   ],
   "source": [
    "from flo_ai.retrievers.flo_retriever import FloRagBuilder\n",
    "from flo_ai.retrievers.flo_compression_pipeline import FloCompressionPipeline\n",
    "\n",
    "llm = ChatOpenAI(temperature=0, model_name='gpt-4o')\n",
    "session = FloSession(llm)\n",
    "builder = FloRagBuilder(session, db.as_retriever())\n",
    "compression_pipeline = FloCompressionPipeline(OpenAIEmbeddings(model=\"text-embedding-3-small\"))\n",
    "compression_pipeline.add_embedding_reduntant_filter()\n",
    "compression_pipeline.add_embedding_relevant_filter()\n",
    "\n",
    "retriever_tool = builder.with_multi_query().with_compression(compression_pipeline).build_retriever_tool(name=\"HousingLoanRetreiver\",\n",
    "                                                                                               description=\"Tool to fetch data around housing loans\")\n",
    "session.register_tool(name=\"HousingLoanTool\", tool=retriever_tool)"
   ]
  },
  {
   "cell_type": "markdown",
   "metadata": {},
   "source": [
    "# Register the tools"
   ]
  },
  {
   "cell_type": "code",
   "execution_count": 6,
   "metadata": {},
   "outputs": [
    {
     "data": {
      "text/plain": [
       "<flo_ai.state.flo_session.FloSession at 0x15d90ca90>"
      ]
     },
     "execution_count": 6,
     "metadata": {},
     "output_type": "execute_result"
    }
   ],
   "source": [
    "session.register_tool(\n",
    "    name=\"SendEmailTool\", \n",
    "    tool=SendEmailTool()\n",
    ").register_tool(\n",
    "    name=\"FetchTransactionTool\",\n",
    "    tool=FetchTransactionTool()\n",
    ")"
   ]
  },
  {
   "cell_type": "markdown",
   "metadata": {},
   "source": [
    "# Setting up the agentic flo"
   ]
  },
  {
   "cell_type": "code",
   "execution_count": 14,
   "metadata": {},
   "outputs": [],
   "source": [
    "agent_yaml = \"\"\"\n",
    "apiVersion: flo/alpha-v1\n",
    "kind: FloRoutedTeam\n",
    "name: support-email-handler\n",
    "team:\n",
    "    name: SupportTicketHandler\n",
    "    router:\n",
    "        name: SupportSupervisor\n",
    "        kind: supervisor\n",
    "    agents:\n",
    "      - name: EmailSender\n",
    "        prompt: You are capable of sending the reply email but constructing a apt response\n",
    "        tools:\n",
    "          - name: SendEmailTool\n",
    "      - name: TransactionFetcher\n",
    "        prompt: You are capable of fetching any kind of transactions from the database given transaction reference id\n",
    "        tools:\n",
    "          - name: FetchTransactionTool\n",
    "      - name: HousingLoanTeamLead\n",
    "        prompt: Fetch the housing loan information from the db and answer the question\n",
    "        tools:\n",
    "          - name: HousingLoanTool\n",
    "\"\"\""
   ]
  },
  {
   "cell_type": "markdown",
   "metadata": {},
   "source": [
    "# Setup input prompt\n",
    "\n",
    "1. This works if the transaction number is passed\n",
    "2. Asks for transaction number if its missing"
   ]
  },
  {
   "cell_type": "code",
   "execution_count": 18,
   "metadata": {},
   "outputs": [],
   "source": [
    "email_input_for_transaction_without_id = \"\"\"\n",
    "Hi Tom,\n",
    "\n",
    "We have a failed transaction. Can you tell me more about why this failed.\n",
    "\n",
    "Thanks\n",
    "Vishnu\n",
    "\"\"\"\n",
    "\n",
    "email_input_for_transaction_with_id = \"\"\"\n",
    "Hi Tom,\n",
    "\n",
    "We have a failed transaction. Can you tell me more about why this failed.\n",
    "\n",
    "Transaction ID: 12123123432\n",
    "\n",
    "Thanks\n",
    "Vishnu\n",
    "\"\"\"\n",
    "\n",
    "email_input_for_housing_loan = \"\"\"\n",
    "Hi Tom,\n",
    "\n",
    "I am looking for a housing loan, is the interest percentage on the loan\n",
    "\n",
    "The tenure is 8 years\n",
    "Amount am looking for is 85 lakhs\n",
    "And am looking for fixed rate housing loan\n",
    "\n",
    "Thanks\n",
    "Vishnu\n",
    "\"\"\""
   ]
  },
  {
   "cell_type": "code",
   "execution_count": 19,
   "metadata": {},
   "outputs": [],
   "source": [
    "input_prompt = \"\"\"\n",
    "You are a support ticket handling agent. You are expected to understand the email, and perform the following steps:\n",
    "\n",
    "1. Reply asking for more information if there is missing information in the email\n",
    "2. Perform the neccessary steps to required to answer the users question and reply the user query.\n",
    "3. If are not able to come up with a answer just reply I dont know over the email\n",
    "\n",
    "Email:\n",
    "\n",
    "\"\"\" + email_input_for_housing_loan"
   ]
  },
  {
   "cell_type": "markdown",
   "metadata": {},
   "source": [
    "## Run the flo"
   ]
  },
  {
   "cell_type": "code",
   "execution_count": 20,
   "metadata": {},
   "outputs": [
    {
     "name": "stdout",
     "output_type": "stream",
     "text": [
      "{'SupportSupervisor-I65cJ': {'next': 'HousingLoanTeamLead-EfugX'}}\n",
      "----\n",
      "\n",
      "\n",
      "\u001b[1m> Entering new AgentExecutor chain...\u001b[0m\n",
      "\u001b[32;1m\u001b[1;3m\n",
      "Invoking: `HousingLoanRetreiver` with `{'query': 'fixed rate housing loan, 8 years tenure, 85 lakhs'}`\n",
      "\n",
      "\n",
      "\u001b[0m\u001b[36;1m\u001b[1;3mMaximum funding for your dream house -85% of the project cost.\n",
      "Loan amount up to Rs. 1500 Lakhs \n",
      "Longer repayment period up to 360 months\n",
      "Repayment holiday up to 36 months.\n",
      "Loan can be availed in overdraft format\n",
      "Minimal paperwork\n",
      "Speedy loan approval\n",
      "No pre closure charges\n",
      "Low processing fees\n",
      "Optional funding for life insurance \n",
      "Easy top up loans in future.\n",
      "Repayment of the loan is made as Equated Monthly Installments (EMI).\n",
      "\n",
      "\n",
      "Eligibility\n",
      "For Residents:\n",
      "\n",
      " \n",
      "\n",
      "For NRIs:\n",
      "\n",
      "Housing Loan\n",
      "\n",
      "Your dream home is never far away! Get hassle free home loans from Federal Bank to turn your dream home into reality. We assist you to realize your dream home. Avail your Housing Loan from us at competitive interest rates. The loan scheme assists borrowers for construction of house, acquisition of land & construction of house, repairs / renovation / remodeling / extension of house, reimbursement of debt incurred for construction / purchase / furnishing / beautification / purchase of flat / villa / house plots / takeover of housing loans / supplementary housing loan to employees of well-run companies / purchase of house plot for subsequent construction of house etc.\n",
      "\n",
      "NRI individuals including salaried people, self-employed and business persons are eligible for Housing Loan.\n",
      "Persons of Indian Origin (PIO) are also eligible for Housing Loan subject to following conditions:\n",
      "The loan is covered by primary / collateral security of immovable property in India in the name of PIO.\n",
      "The PIO should hold a valid PIO Card accompanied by a valid foreign passport.\n",
      "A close relative (as defined in Companies Act) residing in India should join as co-obligant to the loan.\n",
      "Age of the borrower should not exceed 55 years at the end of loan tenure.\n",
      "Monthly income should be not less than Rs. 50000/-.\n",
      "To avail the loan, you can apply online in simple steps. After submitting the application, bank will process your application and will be informing further details. You can track the progress of application too.\n",
      "\n",
      "\n",
      "Repayment of the loan is made as Equated Monthly Installments (EMI).\n",
      "\n",
      "You can use any one of the ways to repay the loan:\n",
      " \n",
      "  Cheques\n",
      "  Standing instructions at your branch\n",
      "  FedNet - Internet Banking\n",
      "  Automated Payment through ECS\n",
      "  Mobile Banking\n",
      "\n",
      "  Housing loan interest rates will change subject to the changes made by Bank/RBI from time to time. \n",
      "\n",
      "Present Repo Rate\t 6.50%  (p.a)\n",
      " \n",
      "\n",
      "Loan scheme\n",
      "\n",
      "Interest Rate (%) * \n",
      "\n",
      "Home Loan  \n",
      "\n",
      "8.80 (Repo Rate+ 2.30) Onwards \n",
      "\n",
      "*T&C Apply\u001b[0m\u001b[32;1m\u001b[1;3mHi Vishnu,\n",
      "\n",
      "Thank you for reaching out.\n",
      "\n",
      "Based on the information you provided, here are the details for a fixed rate housing loan:\n",
      "\n",
      "- **Interest Rate**: The interest rate for a home loan starts at 8.80% (Repo Rate + 2.30%).\n",
      "- **Tenure**: Up to 8 years.\n",
      "- **Loan Amount**: Up to 85 lakhs.\n",
      "\n",
      "Additional benefits include:\n",
      "- Maximum funding up to 85% of the project cost.\n",
      "- Loan amount up to Rs. 1500 Lakhs.\n",
      "- Longer repayment period up to 360 months.\n",
      "- No pre-closure charges.\n",
      "- Low processing fees.\n",
      "- Optional funding for life insurance.\n",
      "- Easy top-up loans in the future.\n",
      "\n",
      "You can repay the loan through various methods such as cheques, standing instructions at your branch, internet banking, automated payment through ECS, and mobile banking.\n",
      "\n",
      "If you need any more information or have further questions, please feel free to ask.\n",
      "\n",
      "Best regards,\n",
      "Tom\u001b[0m\n",
      "\n",
      "\u001b[1m> Finished chain.\u001b[0m\n",
      "{'HousingLoanTeamLead-EfugX': {'messages': [HumanMessage(content='Hi Vishnu,\\n\\nThank you for reaching out.\\n\\nBased on the information you provided, here are the details for a fixed rate housing loan:\\n\\n- **Interest Rate**: The interest rate for a home loan starts at 8.80% (Repo Rate + 2.30%).\\n- **Tenure**: Up to 8 years.\\n- **Loan Amount**: Up to 85 lakhs.\\n\\nAdditional benefits include:\\n- Maximum funding up to 85% of the project cost.\\n- Loan amount up to Rs. 1500 Lakhs.\\n- Longer repayment period up to 360 months.\\n- No pre-closure charges.\\n- Low processing fees.\\n- Optional funding for life insurance.\\n- Easy top-up loans in the future.\\n\\nYou can repay the loan through various methods such as cheques, standing instructions at your branch, internet banking, automated payment through ECS, and mobile banking.\\n\\nIf you need any more information or have further questions, please feel free to ask.\\n\\nBest regards,\\nTom', name='HousingLoanTeamLead-EfugX')]}}\n",
      "----\n",
      "{'SupportSupervisor-I65cJ': {'next': 'EmailSender-9beaX'}}\n",
      "----\n",
      "\n",
      "\n",
      "\u001b[1m> Entering new AgentExecutor chain...\u001b[0m\n",
      "\u001b[32;1m\u001b[1;3m\n",
      "Invoking: `email_triage` with `{'email': 'Hi Vishnu,\\n\\nThank you for reaching out.\\n\\nBased on the information you provided, here are the details for a fixed rate housing loan:\\n\\n- **Interest Rate**: The interest rate for a home loan starts at 8.80% (Repo Rate + 2.30%).\\n- **Tenure**: Up to 8 years.\\n- **Loan Amount**: Up to 85 lakhs.\\n\\nAdditional benefits include:\\n- Maximum funding up to 85% of the project cost.\\n- Loan amount up to Rs. 1500 Lakhs.\\n- Longer repayment period up to 360 months.\\n- No pre-closure charges.\\n- Low processing fees.\\n- Optional funding for life insurance.\\n- Easy top-up loans in the future.\\n\\nYou can repay the loan through various methods such as cheques, standing instructions at your branch, internet banking, automated payment through ECS, and mobile banking.\\n\\nIf you need any more information or have further questions, please feel free to ask.\\n\\nBest regards,\\nTom'}`\n",
      "\n",
      "\n",
      "\u001b[0mHi Vishnu,\n",
      "\n",
      "Thank you for reaching out.\n",
      "\n",
      "Based on the information you provided, here are the details for a fixed rate housing loan:\n",
      "\n",
      "- **Interest Rate**: The interest rate for a home loan starts at 8.80% (Repo Rate + 2.30%).\n",
      "- **Tenure**: Up to 8 years.\n",
      "- **Loan Amount**: Up to 85 lakhs.\n",
      "\n",
      "Additional benefits include:\n",
      "- Maximum funding up to 85% of the project cost.\n",
      "- Loan amount up to Rs. 1500 Lakhs.\n",
      "- Longer repayment period up to 360 months.\n",
      "- No pre-closure charges.\n",
      "- Low processing fees.\n",
      "- Optional funding for life insurance.\n",
      "- Easy top-up loans in the future.\n",
      "\n",
      "You can repay the loan through various methods such as cheques, standing instructions at your branch, internet banking, automated payment through ECS, and mobile banking.\n",
      "\n",
      "If you need any more information or have further questions, please feel free to ask.\n",
      "\n",
      "Best regards,\n",
      "Tom\n",
      "\u001b[36;1m\u001b[1;3mEmail sent successfully\u001b[0m\u001b[32;1m\u001b[1;3mI have sent the email with the necessary details regarding the fixed rate housing loan to Vishnu. If there are any further questions or additional information needed, Vishnu can reach out again.\u001b[0m\n",
      "\n",
      "\u001b[1m> Finished chain.\u001b[0m\n",
      "{'EmailSender-9beaX': {'messages': [HumanMessage(content='I have sent the email with the necessary details regarding the fixed rate housing loan to Vishnu. If there are any further questions or additional information needed, Vishnu can reach out again.', name='EmailSender-9beaX')]}}\n",
      "----\n",
      "{'SupportSupervisor-I65cJ': {'next': 'FINISH'}}\n",
      "----\n"
     ]
    }
   ],
   "source": [
    "flo: Flo = Flo.build_with_yaml(session, yaml=agent_yaml)\n",
    "for s in flo.stream(input_prompt):\n",
    "     if \"__end__\" not in s:\n",
    "        print(s)\n",
    "        print(\"----\")"
   ]
  }
 ],
 "metadata": {
  "kernelspec": {
   "display_name": "Python 3",
   "language": "python",
   "name": "python3"
  },
  "language_info": {
   "codemirror_mode": {
    "name": "ipython",
    "version": 3
   },
   "file_extension": ".py",
   "mimetype": "text/x-python",
   "name": "python",
   "nbconvert_exporter": "python",
   "pygments_lexer": "ipython3",
   "version": "3.11.6"
  }
 },
 "nbformat": 4,
 "nbformat_minor": 2
}
